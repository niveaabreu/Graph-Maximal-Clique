{
  "cells": [
    {
      "cell_type": "markdown",
      "source": [
        "<div align=center>\n",
        "\n",
        "![Insper](https://upload.wikimedia.org/wikipedia/pt/3/39/Logo_Insper.png)\n",
        "\n",
        " **Projeto SuperComputação 2023.2**\n",
        "\n",
        "\n",
        "*Aluna: Nívea de Abreu Dantas Lima*\n",
        "\n",
        "\n",
        "**Análise de Redes Sociais: encontrando a clique máxima em um grafo.**\n",
        "</div>\n",
        "\n",
        "![Exemplo Clique](https://upload.wikimedia.org/wikipedia/commons/thumb/d/d0/VR_complex.svg/1200px-VR_complex.svg.png)\n",
        "\n",
        "## Introdução\n",
        "\n",
        "A análise de redes sociais (ARS) é uma abordagem oriunda de áreas tais como Sociologia, Psicologia Social e Antropologia. Tal abordagem estuda as ligações relacionais (*relational tie*) entre atores sociais. Os atores na ARS podem ser tanto pessoas e empresas, analisadas como unidades individuais, quanto unidades sociais coletivas como, por exemplo, departamentos dentro de uma organização, agências de serviço público em uma cidade, estados-nações de um continente, dentre outras. A ARS difere fundamentalmente de outros estudos pelo fato de que sua ênfase não é nos atributos (características) dos atores, mas nas ligações entre eles.\n",
        "A idéia de uma clique em um grafo é relativamente simples. No nível mais geral, uma clique é um subconjunto de uma rede no qual os atores são mais próximos entre si do que com outros membros da rede. Em termo de laços de amizade, por exemplo, não é incomum encontrar grupos humanos que formam cliques baseando-se em idade, gênero, raça, etnia, religião, ideologia, e muitas coisas coisas. Uma clique é, portanto, um conjunto de vértices em um grafo em que cada par de vértices está diretamente conectado por uma aresta.\n",
        "\n",
        "Encontrar a clique máxima em um grafo é uma tarefa computacionalmente desafiadora devido à natureza combinatória do problema.  A dificuldade computacional surge da necessidade de explorar todas as combinações possíveis de vértices para identificar a maior clique, o que se torna exponencial em relação ao número de vértices. Isso resulta em uma complexidade computacional alta, mesmo para grafos moderadamente grandes.\n",
        "\n",
        "Dessa maneira, o objetivo neste relatório é mostrar uma série de implementações que avaliem as diferentes formas e práticas de buscar resolver este problema, seja obtendo a resposta correta em um tempo impraticável ou buscando soluções aproximadas que sejam obtidas em tempo razoável.\n",
        "\n",
        "Teremos 3 implementações principais:\n",
        "* 1 - Busca Exaustiva: Na qual iremos explorar todas as cliques presentes no grafo (tarefa computacionalmente cara) e selecionar posteriormente aquela que tem maior tamanho. Discutiremos também a possibilidade da criação de uma heurística que traga resultados próximos do ideal mas em tempos bem menores.\n",
        "\n",
        "* 2- Paralelização com OpenMP: Dado ao custo de explorar todos os \"branchs\" de cliques presentes, podemos dividir essa tarefa em diferentes threads em partes específicas da solução para melhorar sua complexidade temporal e diminuir seu tempo de execução sem perder a solução ótima.\n",
        "\n",
        "* 3- Computação Distribuída com MPI: Podemos também tentar dividir essa tarefa de busca da clique máxima no grafo em diversas CPU's, o que pode nos indicar formas possíveis de ganho de perfomance, sobretudo em grafos com tamanhos cada vez maiores."
      ],
      "metadata": {
        "id": "MYaEpwcQEFVG"
      }
    },
    {
      "cell_type": "markdown",
      "source": [
        "# Configurando Ambiente\n",
        "A maioria das implementações estarão no repositório fonte deste projeto. Neste Notebook, executaremos as implementações e discutiremos seus resultados frente ao escopo de Computação de Alta performance.  Para isso execute a célula abaixo."
      ],
      "metadata": {
        "id": "BFUmGCIHHZqi"
      }
    },
    {
      "cell_type": "code",
      "execution_count": 6,
      "metadata": {
        "id": "V4l9ugfTAlSr",
        "outputId": "c6797c63-bfb6-4693-dbe5-8fd36aaebabd",
        "colab": {
          "base_uri": "https://localhost:8080/"
        }
      },
      "outputs": [
        {
          "output_type": "stream",
          "name": "stdout",
          "text": [
            "shell-init: error retrieving current directory: getcwd: cannot access parent directories: No such file or directory\n",
            "fatal: could not create work tree dir 'Projeto-SuperComp': No such file or directory\n"
          ]
        }
      ],
      "source": [
        "!git clone https://github.com/niveaabreu/Projeto-SuperComp"
      ]
    },
    {
      "cell_type": "code",
      "source": [
        "%cd Projeto-SuperComp"
      ],
      "metadata": {
        "id": "JxuQJDN5AnZA",
        "outputId": "5714ca62-b8db-4de8-99a4-aa3fd9d7cffe",
        "colab": {
          "base_uri": "https://localhost:8080/"
        }
      },
      "execution_count": 2,
      "outputs": [
        {
          "output_type": "stream",
          "name": "stdout",
          "text": [
            "/content/Projeto-SuperComp\n"
          ]
        }
      ]
    },
    {
      "cell_type": "code",
      "source": [
        "!python cria_grafo.py"
      ],
      "metadata": {
        "id": "najoyHryAmOk",
        "outputId": "6ae783e6-160f-46dd-acc8-57f491cc84c0",
        "colab": {
          "base_uri": "https://localhost:8080/"
        }
      },
      "execution_count": null,
      "outputs": [
        {
          "output_type": "stream",
          "name": "stdout",
          "text": [
            "Grafo densamente conectado gerado e salvo em 'grafo.txt'.\n"
          ]
        }
      ]
    },
    {
      "cell_type": "code",
      "execution_count": null,
      "metadata": {
        "id": "z23dZUwwAlSs",
        "outputId": "0e7ebe3d-632b-4925-f802-ce61e6844b42",
        "colab": {
          "base_uri": "https://localhost:8080/"
        }
      },
      "outputs": [
        {
          "output_type": "stream",
          "name": "stdout",
          "text": [
            "\u001b[01m\u001b[Kmain.cpp:\u001b[m\u001b[K In function ‘\u001b[01m\u001b[Kstd::vector<int> CliqueMaxima(std::vector<std::vector<int> >&, int)\u001b[m\u001b[K’:\n",
            "\u001b[01m\u001b[Kmain.cpp:42:26:\u001b[m\u001b[K \u001b[01;35m\u001b[Kwarning: \u001b[m\u001b[Kcomparison of integer expressions of different signedness: ‘\u001b[01m\u001b[Kint\u001b[m\u001b[K’ and ‘\u001b[01m\u001b[Kstd::vector<int>::size_type\u001b[m\u001b[K’ {aka ‘\u001b[01m\u001b[Klong unsigned int\u001b[m\u001b[K’} [\u001b[01;35m\u001b[K\u001b]8;;https://gcc.gnu.org/onlinedocs/gcc/Warning-Options.html#index-Wsign-compare\u0007-Wsign-compare\u001b]8;;\u0007\u001b[m\u001b[K]\n",
            "   42 |         for(int i = 0; \u001b[01;35m\u001b[Ki < cliqueMaxima.size()\u001b[m\u001b[K; i++){\n",
            "      |                        \u001b[01;35m\u001b[K~~^~~~~~~~~~~~~~~~~~~~~\u001b[m\u001b[K\n",
            "\u001b[01m\u001b[Kmain.cpp:53:30:\u001b[m\u001b[K \u001b[01;35m\u001b[Kwarning: \u001b[m\u001b[Kcomparison of integer expressions of different signedness: ‘\u001b[01m\u001b[Kint\u001b[m\u001b[K’ and ‘\u001b[01m\u001b[Kstd::vector<int>::size_type\u001b[m\u001b[K’ {aka ‘\u001b[01m\u001b[Klong unsigned int\u001b[m\u001b[K’} [\u001b[01;35m\u001b[K\u001b]8;;https://gcc.gnu.org/onlinedocs/gcc/Warning-Options.html#index-Wsign-compare\u0007-Wsign-compare\u001b]8;;\u0007\u001b[m\u001b[K]\n",
            "   53 |             for(int i = 0; \u001b[01;35m\u001b[Ki < candidatos.size()\u001b[m\u001b[K; i++){\n",
            "      |                            \u001b[01;35m\u001b[K~~^~~~~~~~~~~~~~~~~~~\u001b[m\u001b[K\n",
            "\u001b[01m\u001b[Kmain.cpp:57:34:\u001b[m\u001b[K \u001b[01;35m\u001b[Kwarning: \u001b[m\u001b[Kcomparison of integer expressions of different signedness: ‘\u001b[01m\u001b[Kint\u001b[m\u001b[K’ and ‘\u001b[01m\u001b[Kstd::vector<int>::size_type\u001b[m\u001b[K’ {aka ‘\u001b[01m\u001b[Klong unsigned int\u001b[m\u001b[K’} [\u001b[01;35m\u001b[K\u001b]8;;https://gcc.gnu.org/onlinedocs/gcc/Warning-Options.html#index-Wsign-compare\u0007-Wsign-compare\u001b]8;;\u0007\u001b[m\u001b[K]\n",
            "   57 |                 for(int j = 0; \u001b[01;35m\u001b[Kj < cliqueMaxima.size()\u001b[m\u001b[K; j++){\n",
            "      |                                \u001b[01;35m\u001b[K~~^~~~~~~~~~~~~~~~~~~~~\u001b[m\u001b[K\n"
          ]
        }
      ],
      "source": [
        "!g++ -Wall -O3 main.cpp -o main"
      ]
    },
    {
      "cell_type": "code",
      "execution_count": null,
      "metadata": {
        "id": "KfFpk0n_AlSt",
        "outputId": "0ff5a386-165b-479f-a743-ad40d52495e4",
        "colab": {
          "base_uri": "https://localhost:8080/"
        }
      },
      "outputs": [
        {
          "output_type": "stream",
          "name": "stdout",
          "text": [
            "99 98 96 92 89 84 81 79 51 49 30 10 "
          ]
        }
      ],
      "source": [
        "!cat grafo.txt |./main"
      ]
    },
    {
      "cell_type": "code",
      "source": [
        "!python verificagrafo.py"
      ],
      "metadata": {
        "id": "7P6WXPM2BCoT",
        "outputId": "bf480586-91b3-4d19-db5b-f204082b2943",
        "colab": {
          "base_uri": "https://localhost:8080/"
        }
      },
      "execution_count": null,
      "outputs": [
        {
          "output_type": "stream",
          "name": "stdout",
          "text": [
            "Traceback (most recent call last):\n",
            "  File \"/content/Projeto-SuperComp/Projeto-SuperComp/verificagrafo.py\", line 7, in <module>\n",
            "    with open(nome_arquivo, 'r') as arquivo:\n",
            "FileNotFoundError: [Errno 2] No such file or directory: 'seu_arquivo.txt'\n"
          ]
        }
      ]
    },
    {
      "cell_type": "code",
      "source": [],
      "metadata": {
        "id": "MvwnhbawBJKM"
      },
      "execution_count": null,
      "outputs": []
    }
  ],
  "metadata": {
    "kernelspec": {
      "display_name": "base",
      "language": "python",
      "name": "python3"
    },
    "language_info": {
      "codemirror_mode": {
        "name": "ipython",
        "version": 3
      },
      "file_extension": ".py",
      "mimetype": "text/x-python",
      "name": "python",
      "nbconvert_exporter": "python",
      "pygments_lexer": "ipython3",
      "version": "3.8.5"
    },
    "orig_nbformat": 4,
    "colab": {
      "provenance": []
    }
  },
  "nbformat": 4,
  "nbformat_minor": 0
}