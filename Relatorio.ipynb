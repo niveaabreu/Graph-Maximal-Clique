{
  "cells": [
    {
      "cell_type": "markdown",
      "metadata": {
        "id": "view-in-github",
        "colab_type": "text"
      },
      "source": [
        "<a href=\"https://colab.research.google.com/github/niveaabreu/Projeto-SuperComp/blob/main/Relatorio.ipynb\" target=\"_parent\"><img src=\"https://colab.research.google.com/assets/colab-badge.svg\" alt=\"Open In Colab\"/></a>"
      ]
    },
    {
      "cell_type": "code",
      "execution_count": 6,
      "metadata": {
        "id": "V4l9ugfTAlSr",
        "outputId": "da9b8074-1d55-4f9b-dbf6-c6d68b4d7369",
        "colab": {
          "base_uri": "https://localhost:8080/"
        }
      },
      "outputs": [
        {
          "output_type": "stream",
          "name": "stdout",
          "text": [
            "Cloning into 'Projeto-SuperComp'...\n",
            "remote: Enumerating objects: 14, done.\u001b[K\n",
            "remote: Counting objects:   7% (1/14)\u001b[K\rremote: Counting objects:  14% (2/14)\u001b[K\rremote: Counting objects:  21% (3/14)\u001b[K\rremote: Counting objects:  28% (4/14)\u001b[K\rremote: Counting objects:  35% (5/14)\u001b[K\rremote: Counting objects:  42% (6/14)\u001b[K\rremote: Counting objects:  50% (7/14)\u001b[K\rremote: Counting objects:  57% (8/14)\u001b[K\rremote: Counting objects:  64% (9/14)\u001b[K\rremote: Counting objects:  71% (10/14)\u001b[K\rremote: Counting objects:  78% (11/14)\u001b[K\rremote: Counting objects:  85% (12/14)\u001b[K\rremote: Counting objects:  92% (13/14)\u001b[K\rremote: Counting objects: 100% (14/14)\u001b[K\rremote: Counting objects: 100% (14/14), done.\u001b[K\n",
            "remote: Compressing objects:   9% (1/11)\u001b[K\rremote: Compressing objects:  18% (2/11)\u001b[K\rremote: Compressing objects:  27% (3/11)\u001b[K\rremote: Compressing objects:  36% (4/11)\u001b[K\rremote: Compressing objects:  45% (5/11)\u001b[K\rremote: Compressing objects:  54% (6/11)\u001b[K\rremote: Compressing objects:  63% (7/11)\u001b[K\rremote: Compressing objects:  72% (8/11)\u001b[K\rremote: Compressing objects:  81% (9/11)\u001b[K\rremote: Compressing objects:  90% (10/11)\u001b[K\rremote: Compressing objects: 100% (11/11)\u001b[K\rremote: Compressing objects: 100% (11/11), done.\u001b[K\n",
            "Receiving objects:   7% (1/14)\rReceiving objects:  14% (2/14)\rReceiving objects:  21% (3/14)\rReceiving objects:  28% (4/14)\rReceiving objects:  35% (5/14)\rReceiving objects:  42% (6/14)\rReceiving objects:  50% (7/14)\rReceiving objects:  57% (8/14)\rReceiving objects:  64% (9/14)\rremote: Total 14 (delta 3), reused 10 (delta 2), pack-reused 0\u001b[K\n",
            "Receiving objects:  71% (10/14)\rReceiving objects:  78% (11/14)\rReceiving objects:  85% (12/14)\rReceiving objects:  92% (13/14)\rReceiving objects: 100% (14/14)\rReceiving objects: 100% (14/14), 12.26 KiB | 3.07 MiB/s, done.\n",
            "Resolving deltas:   0% (0/3)\rResolving deltas:  33% (1/3)\rResolving deltas:  66% (2/3)\rResolving deltas: 100% (3/3)\rResolving deltas: 100% (3/3), done.\n"
          ]
        }
      ],
      "source": [
        "!git clone https://github.com/niveaabreu/Projeto-SuperComp"
      ]
    },
    {
      "cell_type": "code",
      "source": [
        "%cd Projeto-SuperComp"
      ],
      "metadata": {
        "id": "JxuQJDN5AnZA",
        "outputId": "c6dbe9cc-1cc5-45d7-fa73-34111d5ddb30",
        "colab": {
          "base_uri": "https://localhost:8080/"
        }
      },
      "execution_count": 7,
      "outputs": [
        {
          "output_type": "stream",
          "name": "stdout",
          "text": [
            "/content/Projeto-SuperComp/Projeto-SuperComp\n"
          ]
        }
      ]
    },
    {
      "cell_type": "code",
      "source": [
        "!python cria_grafo.py"
      ],
      "metadata": {
        "id": "najoyHryAmOk",
        "outputId": "6ae783e6-160f-46dd-acc8-57f491cc84c0",
        "colab": {
          "base_uri": "https://localhost:8080/"
        }
      },
      "execution_count": 8,
      "outputs": [
        {
          "output_type": "stream",
          "name": "stdout",
          "text": [
            "Grafo densamente conectado gerado e salvo em 'grafo.txt'.\n"
          ]
        }
      ]
    },
    {
      "cell_type": "code",
      "execution_count": 10,
      "metadata": {
        "id": "z23dZUwwAlSs",
        "outputId": "0e7ebe3d-632b-4925-f802-ce61e6844b42",
        "colab": {
          "base_uri": "https://localhost:8080/"
        }
      },
      "outputs": [
        {
          "output_type": "stream",
          "name": "stdout",
          "text": [
            "\u001b[01m\u001b[Kmain.cpp:\u001b[m\u001b[K In function ‘\u001b[01m\u001b[Kstd::vector<int> CliqueMaxima(std::vector<std::vector<int> >&, int)\u001b[m\u001b[K’:\n",
            "\u001b[01m\u001b[Kmain.cpp:42:26:\u001b[m\u001b[K \u001b[01;35m\u001b[Kwarning: \u001b[m\u001b[Kcomparison of integer expressions of different signedness: ‘\u001b[01m\u001b[Kint\u001b[m\u001b[K’ and ‘\u001b[01m\u001b[Kstd::vector<int>::size_type\u001b[m\u001b[K’ {aka ‘\u001b[01m\u001b[Klong unsigned int\u001b[m\u001b[K’} [\u001b[01;35m\u001b[K\u001b]8;;https://gcc.gnu.org/onlinedocs/gcc/Warning-Options.html#index-Wsign-compare\u0007-Wsign-compare\u001b]8;;\u0007\u001b[m\u001b[K]\n",
            "   42 |         for(int i = 0; \u001b[01;35m\u001b[Ki < cliqueMaxima.size()\u001b[m\u001b[K; i++){\n",
            "      |                        \u001b[01;35m\u001b[K~~^~~~~~~~~~~~~~~~~~~~~\u001b[m\u001b[K\n",
            "\u001b[01m\u001b[Kmain.cpp:53:30:\u001b[m\u001b[K \u001b[01;35m\u001b[Kwarning: \u001b[m\u001b[Kcomparison of integer expressions of different signedness: ‘\u001b[01m\u001b[Kint\u001b[m\u001b[K’ and ‘\u001b[01m\u001b[Kstd::vector<int>::size_type\u001b[m\u001b[K’ {aka ‘\u001b[01m\u001b[Klong unsigned int\u001b[m\u001b[K’} [\u001b[01;35m\u001b[K\u001b]8;;https://gcc.gnu.org/onlinedocs/gcc/Warning-Options.html#index-Wsign-compare\u0007-Wsign-compare\u001b]8;;\u0007\u001b[m\u001b[K]\n",
            "   53 |             for(int i = 0; \u001b[01;35m\u001b[Ki < candidatos.size()\u001b[m\u001b[K; i++){\n",
            "      |                            \u001b[01;35m\u001b[K~~^~~~~~~~~~~~~~~~~~~\u001b[m\u001b[K\n",
            "\u001b[01m\u001b[Kmain.cpp:57:34:\u001b[m\u001b[K \u001b[01;35m\u001b[Kwarning: \u001b[m\u001b[Kcomparison of integer expressions of different signedness: ‘\u001b[01m\u001b[Kint\u001b[m\u001b[K’ and ‘\u001b[01m\u001b[Kstd::vector<int>::size_type\u001b[m\u001b[K’ {aka ‘\u001b[01m\u001b[Klong unsigned int\u001b[m\u001b[K’} [\u001b[01;35m\u001b[K\u001b]8;;https://gcc.gnu.org/onlinedocs/gcc/Warning-Options.html#index-Wsign-compare\u0007-Wsign-compare\u001b]8;;\u0007\u001b[m\u001b[K]\n",
            "   57 |                 for(int j = 0; \u001b[01;35m\u001b[Kj < cliqueMaxima.size()\u001b[m\u001b[K; j++){\n",
            "      |                                \u001b[01;35m\u001b[K~~^~~~~~~~~~~~~~~~~~~~~\u001b[m\u001b[K\n"
          ]
        }
      ],
      "source": [
        "!g++ -Wall -O3 main.cpp -o main"
      ]
    },
    {
      "cell_type": "code",
      "execution_count": 11,
      "metadata": {
        "id": "KfFpk0n_AlSt",
        "outputId": "0ff5a386-165b-479f-a743-ad40d52495e4",
        "colab": {
          "base_uri": "https://localhost:8080/"
        }
      },
      "outputs": [
        {
          "output_type": "stream",
          "name": "stdout",
          "text": [
            "99 98 96 92 89 84 81 79 51 49 30 10 "
          ]
        }
      ],
      "source": [
        "!cat grafo.txt |./main"
      ]
    },
    {
      "cell_type": "code",
      "source": [
        "!python verificagrafo.py"
      ],
      "metadata": {
        "id": "7P6WXPM2BCoT",
        "outputId": "bf480586-91b3-4d19-db5b-f204082b2943",
        "colab": {
          "base_uri": "https://localhost:8080/"
        }
      },
      "execution_count": 13,
      "outputs": [
        {
          "output_type": "stream",
          "name": "stdout",
          "text": [
            "Traceback (most recent call last):\n",
            "  File \"/content/Projeto-SuperComp/Projeto-SuperComp/verificagrafo.py\", line 7, in <module>\n",
            "    with open(nome_arquivo, 'r') as arquivo:\n",
            "FileNotFoundError: [Errno 2] No such file or directory: 'seu_arquivo.txt'\n"
          ]
        }
      ]
    },
    {
      "cell_type": "code",
      "source": [],
      "metadata": {
        "id": "MvwnhbawBJKM"
      },
      "execution_count": null,
      "outputs": []
    }
  ],
  "metadata": {
    "kernelspec": {
      "display_name": "base",
      "language": "python",
      "name": "python3"
    },
    "language_info": {
      "codemirror_mode": {
        "name": "ipython",
        "version": 3
      },
      "file_extension": ".py",
      "mimetype": "text/x-python",
      "name": "python",
      "nbconvert_exporter": "python",
      "pygments_lexer": "ipython3",
      "version": "3.8.5"
    },
    "orig_nbformat": 4,
    "colab": {
      "provenance": [],
      "include_colab_link": true
    }
  },
  "nbformat": 4,
  "nbformat_minor": 0
}